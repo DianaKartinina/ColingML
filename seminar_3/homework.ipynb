{
 "cells": [
  {
   "cell_type": "code",
   "execution_count": 98,
   "id": "0b44e901",
   "metadata": {},
   "outputs": [],
   "source": [
    "import numpy as np\n",
    "import matplotlib.pyplot as plt\n",
    "import pandas as pd"
   ]
  },
  {
   "cell_type": "markdown",
   "id": "07add041",
   "metadata": {},
   "source": [
    "# Градиентный спуск своими руками"
   ]
  },
  {
   "cell_type": "markdown",
   "id": "a57e4c06",
   "metadata": {
    "slideshow": {
     "slide_type": "slide"
    }
   },
   "source": [
    "__Общая формула линейной регрессии__\n",
    "\n",
    "$y = w_1 x_1 + \\ldots + w_m x_m = \\langle x, w\\rangle,$\n",
    "\n",
    "__Общая формула градиентного спуска__\n",
    "\n",
    "$w_j = w_j - \\eta\\frac{\\partial }{\\partial w_j}L(f_w,X,y)$.\n",
    "\n",
    "__Функция потерь MSE__\n",
    "\n",
    "$MSE = \\frac {1}{n} \\sum_{i=1}^n (y_i - pred_i)^2$ где $pred_i = <x, w>$\n",
    "\n",
    "\n",
    "__Градиент для MSE__\n",
    "\n",
    "$\\nabla _w MSE = \\frac {1}{n} \\sum_{i=1}^n 2x_i (<x_i, w_j> - y_i)$\n",
    "\n",
    "[Вывод градиента MSE](https://www.coursera.org/lecture/machine-learning-foundations/vyvod-ghradiienta-dlia-mse-H5Rw9)"
   ]
  },
  {
   "cell_type": "code",
   "execution_count": 103,
   "id": "05b376ac",
   "metadata": {},
   "outputs": [],
   "source": [
    "# сгенерируем выборку:\n",
    "n = 100\n",
    "\n",
    "# сгенерировали n примеров x из нормального распределения\n",
    "x = np.random.normal(size=n)\n",
    "\n",
    "# генерируем зависимость с добавлением шума\n",
    "y = 2 * x + 3 + normal(size=n)"
   ]
  },
  {
   "cell_type": "code",
   "execution_count": 104,
   "id": "a488a995",
   "metadata": {},
   "outputs": [
    {
     "data": {
      "image/png": "[encoded data removed]",
      "text/plain": [
       "<Figure size 432x288 with 1 Axes>"
      ]
     },
     "metadata": {
      "needs_background": "light"
     },
     "output_type": "display_data"
    }
   ],
   "source": [
    "# посмотрим, что у нас за данные\n",
    "plt.plot(x, y, 'o')\n",
    "plt.show()\n"
   ]
  },
  {
   "cell_type": "markdown",
   "id": "8b011a1c",
   "metadata": {},
   "source": [
    "**Добавление свободного члена**\n",
    "\n",
    "Поскольку наша регрессия имеет свободный член, к матрице $X$ нужно приписать столбец, состоящий из одних единиц. В данном случае мы использовали функцию `np.ones_like()`, генерирующую объект с такими же измерениями, как и его аргумент, заполненный единицами. В данном случае мы попросили сделать вектор такой же длины, как $x$, но заполненный единицами. `np.array` в данном случае создаёт матрицу из списка списков, считая, что она записана по строкам; чтобы её записать по столбцам, мы применили транспонирование."
   ]
  },
  {
   "cell_type": "code",
   "execution_count": 7,
   "id": "7bf7f66c",
   "metadata": {},
   "outputs": [],
   "source": [
    "X = np.array([x, np.ones_like(x)]).T"
   ]
  },
  {
   "cell_type": "code",
   "execution_count": 8,
   "id": "1d29a748",
   "metadata": {},
   "outputs": [
    {
     "data": {
      "text/plain": [
       "array([[ 0.39436395,  1.        ],\n",
       "       [ 0.02254101,  1.        ],\n",
       "       [-1.33962218,  1.        ],\n",
       "       [ 1.57537407,  1.        ],\n",
       "       [ 0.61127717,  1.        ]])"
      ]
     },
     "execution_count": 8,
     "metadata": {},
     "output_type": "execute_result"
    }
   ],
   "source": [
    "# посмотрим теперь на первые 5 примеров\n",
    "X[:5]"
   ]
  },
  {
   "cell_type": "code",
   "execution_count": 48,
   "id": "3ef80eb7",
   "metadata": {},
   "outputs": [
    {
     "data": {
      "text/plain": [
       "(100,)"
      ]
     },
     "execution_count": 48,
     "metadata": {},
     "output_type": "execute_result"
    }
   ],
   "source": [
    "y.shape"
   ]
  },
  {
   "cell_type": "code",
   "execution_count": 105,
   "id": "6c5600ac",
   "metadata": {},
   "outputs": [],
   "source": [
    "# Задание 1. Реализуйте среднеквадратичную функцию потерь\n",
    "def mse(y_true, y_pred):\n",
    "    return 0"
   ]
  },
  {
   "cell_type": "code",
   "execution_count": 107,
   "id": "0d67f88f",
   "metadata": {
    "scrolled": true
   },
   "outputs": [],
   "source": [
    "# Задание 2. Реализуйте градиентный спуск для синтетических данных своими руками\n",
    "\n",
    "# a. Инициализируйте вектор весов\n",
    "w = None \n",
    "\n",
    "# b. Объявите константу темпа обучения (Чаще всего значения лежат в промежутке [0.01, 0.0001])\n",
    "eta = 0.001\n",
    "\n",
    "# До схождения...\n",
    "while True:\n",
    "    \n",
    "    # c. Операция скалярного произведения признаков и весов \n",
    "    y_pred = None\n",
    "    \n",
    "    # d. Расчет MSE\n",
    "    loss = None\n",
    "    \n",
    "    # e. Расчет градиента (градиент должен того же самого .shape, что и веса)\n",
    "    grad = None\n",
    "    \n",
    "    # f. Двигаем веса в сторону градиента\n",
    "    w -= eta * grad\n"
   ]
  },
  {
   "cell_type": "code",
   "execution_count": 110,
   "id": "c15fe6fe",
   "metadata": {},
   "outputs": [],
   "source": [
    "# Можно вывести итоговую линию регрессии \n",
    "\n",
    "plt.plot(X[:, 0], y, 'o')\n",
    "plt.plot(X[:, 0], X.dot(w), color=\"blue\", linewidth=3)\n",
    "plt.show()"
   ]
  },
  {
   "cell_type": "markdown",
   "id": "c63f98b1",
   "metadata": {},
   "source": [
    "__Задание 3: изучить следующий [jupyter notebook](https://github.com/esokolov/ml-course-hse/blob/master/2021-fall/seminars/sem02-sklearn-linregr.ipynb)__"
   ]
  },
  {
   "cell_type": "markdown",
   "id": "1a755dc9",
   "metadata": {},
   "source": [
    "__Задание 4: на основе предыдущего ноутбука сделать анализ данных и моделирование на датасете__ Real estate.csv"
   ]
  },
  {
   "cell_type": "code",
   "execution_count": 111,
   "id": "0130f6c0",
   "metadata": {},
   "outputs": [],
   "source": [
    "df = pd.read_csv('Real estate.csv')"
   ]
  },
  {
   "cell_type": "code",
   "execution_count": 113,
   "id": "0bb127c4",
   "metadata": {},
   "outputs": [
    {
     "data": {
      "text/html": [
       "<div>\n",
       "<style scoped>\n",
       "    .dataframe tbody tr th:only-of-type {\n",
       "        vertical-align: middle;\n",
       "    }\n",
       "\n",
       "    .dataframe tbody tr th {\n",
       "        vertical-align: top;\n",
       "    }\n",
       "\n",
       "    .dataframe thead th {\n",
       "        text-align: right;\n",
       "    }\n",
       "</style>\n",
       "<table border=\"1\" class=\"dataframe\">\n",
       "  <thead>\n",
       "    <tr style=\"text-align: right;\">\n",
       "      <th></th>\n",
       "      <th>No</th>\n",
       "      <th>X1 transaction date</th>\n",
       "      <th>X2 house age</th>\n",
       "      <th>X3 distance to the nearest MRT station</th>\n",
       "      <th>X4 number of convenience stores</th>\n",
       "      <th>X5 latitude</th>\n",
       "      <th>X6 longitude</th>\n",
       "      <th>Y house price of unit area</th>\n",
       "    </tr>\n",
       "  </thead>\n",
       "  <tbody>\n",
       "    <tr>\n",
       "      <th>258</th>\n",
       "      <td>259</td>\n",
       "      <td>2013.417</td>\n",
       "      <td>0.0</td>\n",
       "      <td>292.9978</td>\n",
       "      <td>6</td>\n",
       "      <td>24.97744</td>\n",
       "      <td>121.54458</td>\n",
       "      <td>63.3</td>\n",
       "    </tr>\n",
       "    <tr>\n",
       "      <th>332</th>\n",
       "      <td>333</td>\n",
       "      <td>2013.167</td>\n",
       "      <td>39.8</td>\n",
       "      <td>617.7134</td>\n",
       "      <td>2</td>\n",
       "      <td>24.97577</td>\n",
       "      <td>121.53475</td>\n",
       "      <td>39.6</td>\n",
       "    </tr>\n",
       "  </tbody>\n",
       "</table>\n",
       "</div>"
      ],
      "text/plain": [
       "      No  X1 transaction date  X2 house age  \\\n",
       "258  259             2013.417           0.0   \n",
       "332  333             2013.167          39.8   \n",
       "\n",
       "     X3 distance to the nearest MRT station  X4 number of convenience stores  \\\n",
       "258                                292.9978                                6   \n",
       "332                                617.7134                                2   \n",
       "\n",
       "     X5 latitude  X6 longitude  Y house price of unit area  \n",
       "258     24.97744     121.54458                        63.3  \n",
       "332     24.97577     121.53475                        39.6  "
      ]
     },
     "execution_count": 113,
     "metadata": {},
     "output_type": "execute_result"
    }
   ],
   "source": [
    "df.sample(2)"
   ]
  },
  {
   "cell_type": "code",
   "execution_count": null,
   "id": "7fa06f93",
   "metadata": {},
   "outputs": [],
   "source": []
  }
 ],
 "metadata": {
  "kernelspec": {
   "display_name": "Python 3 (ipykernel)",
   "language": "python",
   "name": "python3"
  },
  "language_info": {
   "codemirror_mode": {
    "name": "ipython",
    "version": 3
   },
   "file_extension": ".py",
   "mimetype": "text/x-python",
   "name": "python",
   "nbconvert_exporter": "python",
   "pygments_lexer": "ipython3",
   "version": "3.8.10"
  }
 },
 "nbformat": 4,
 "nbformat_minor": 5
}
