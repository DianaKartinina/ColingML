{
 "cells": [
  {
   "cell_type": "markdown",
   "id": "af9dfce9",
   "metadata": {
    "slideshow": {
     "slide_type": "slide"
    }
   },
   "source": [
    "## Обучение без учителя как задача машинного обучения\n",
    "\n"
   ]
  },
  {
   "cell_type": "markdown",
   "id": "a747e91e",
   "metadata": {
    "slideshow": {
     "slide_type": "fragment"
    }
   },
   "source": [
    "__Обучение с учителем__:\n",
    "\n",
    "* Датасет $\\{ (x_i, y_i) \\}_{i=1}^N $\n",
    "* Есть метрика \"потерь\"\n",
    "* Зачастую можем интерпретировать решение модели (через размер весов или вероятности)\n",
    "\n",
    "\n",
    "__Обучение без учителя__:\n",
    "* Датасет $\\{ (x_i) \\}_{i=1}^N $ - только признаки\n",
    "* Отсутствует целевая переменная --> не можем считать качество\n",
    "* Интерпретация затрудняется, особенно в многомерном пространстве\n",
    "* Ещё сильнее зависим от особенностей признакового пространства"
   ]
  },
  {
   "cell_type": "markdown",
   "id": "e6da6da2",
   "metadata": {
    "slideshow": {
     "slide_type": "slide"
    }
   },
   "source": [
    "### Кластеризация -- разновидность обучения без учителя\n",
    "\n",
    "__Задача__:\n",
    "* Для некоего набора точек $X$ сформировать кластеры (predefined/not predefined), объединенные некой метрикой (чаще всего близости)\n",
    "\n",
    "* Формирование кластеров недетерминистично (меняется при переобучении)\n",
    "\n",
    "* Количество кластеров - субъективный критерий (пальцем в небо)\n",
    "\n",
    "* Меры близости и обработка признаков - экспертная задача\n",
    "\n",
    "* Чаще всего применимо для разведовательного анализа данных"
   ]
  },
  {
   "cell_type": "markdown",
   "id": "a3ed3984",
   "metadata": {
    "slideshow": {
     "slide_type": "slide"
    }
   },
   "source": [
    "### K-Means\n",
    "\n",
    "Параметры:\n",
    "\n",
    "    - K - количество центройдов\n",
    "    - D() - функция расчета растояний между точкой и центройдом"
   ]
  },
  {
   "cell_type": "markdown",
   "id": "463d32a1",
   "metadata": {
    "slideshow": {
     "slide_type": "subslide"
    }
   },
   "source": [
    "python-like псевдокод для k-means:\n",
    "```python\n",
    "def k_means(k, X):\n",
    "    k = 3\n",
    "    centroids = random_array(shape=(k, n_features)) \n",
    "    done = False\n",
    "\n",
    "    while not done:\n",
    "        predictions = []\n",
    "        for x_i in X:\n",
    "            # Для каждой точки: считаем ближайший кластер к точке\n",
    "            pred = argmin(closest(x_i, centroids))\n",
    "            predictions.append(pred)\n",
    "\n",
    "        #  Новые центроиды - среднее арифметическое всех точек в каждом кластере\n",
    "        new_centroids = recalc_centroids(predictions, X)\n",
    "\n",
    "        # Если центроиды не двигаются, алгоритм сошелся\n",
    "        if allclose(centroids, new_centroids):\n",
    "            done = True\n",
    "        centroids = new_centroids\n",
    "    \n",
    "    # Можно вернуть центроиды. Тогда предсказание:\n",
    "    # argmin(closest(x_new, centroids))\n",
    "    return centroids\n",
    "```\n"
   ]
  },
  {
   "cell_type": "markdown",
   "id": "cba5bdd5",
   "metadata": {
    "slideshow": {
     "slide_type": "subslide"
    }
   },
   "source": [
    "## Формулы для k-means\n",
    "\n",
    "l2 норма (евклидова метрика) $$ D(p, q) = \\sqrt{\\sum_{i=1}^{n}(p_k - q_k)^2} $$\n",
    "\n",
    "ищем ближайший кластер $$ argmin_jD(x_i, c_j) $$\n",
    "\n",
    "перерасчет кластеров $$c_j = \\frac{1}{n_j}\\sum{X_i}$$"
   ]
  },
  {
   "cell_type": "markdown",
   "id": "d6f2864d",
   "metadata": {
    "slideshow": {
     "slide_type": "subslide"
    }
   },
   "source": [
    "![](http://neerc.ifmo.ru/wiki/images/6/67/Kmeans.jpg)\n",
    "\n",
    "[kmeans](https://www.naftaliharris.com/blog/visualizing-k-means-clustering/)"
   ]
  },
  {
   "cell_type": "markdown",
   "id": "03c6e3ca",
   "metadata": {
    "slideshow": {
     "slide_type": "slide"
    }
   },
   "source": [
    "## DBScan\n",
    "\n",
    "Параметры:\n",
    "\n",
    "    - min_pts - минимальное число вокруг точек для формирования \"основных\" точек\n",
    "    - eps - радиус, в котором ищем точки\n",
    "  "
   ]
  },
  {
   "cell_type": "markdown",
   "id": "608d8f40",
   "metadata": {
    "slideshow": {
     "slide_type": "subslide"
    }
   },
   "source": [
    "![](https://upload.wikimedia.org/wikipedia/commons/thumb/a/af/DBSCAN-Illustration.svg/600px-DBSCAN-Illustration.svg.png)\n",
    "\n",
    "    - minPts = 4\n",
    "\n",
    "    - eps = ...\n",
    "\n",
    "* Красные точки - основные точки\n",
    "* Желтые точки - краевые точки\n",
    "* Синяя точка - выброс"
   ]
  },
  {
   "cell_type": "markdown",
   "id": "186fc830",
   "metadata": {
    "slideshow": {
     "slide_type": "subslide"
    }
   },
   "source": [
    "![](https://miro.medium.com/max/1339/0*xu3GYMsWu9QiKNOo.png)\n",
    "\n",
    "[dbscan](https://www.naftaliharris.com/blog/visualizing-dbscan-clustering/)"
   ]
  },
  {
   "cell_type": "markdown",
   "id": "33a79d9a",
   "metadata": {
    "slideshow": {
     "slide_type": "subslide"
    }
   },
   "source": [
    "### Silhouette Score\n",
    "\n",
    "Считаем насколько кластеры близки друг к другу\n",
    "\n",
    "b - среднее попарное расстояние между элементами внутри кластера (intra cluster distance)\n",
    "\n",
    "a - среднее ближайшее расстояние каждого элемента до соседнего кластера\n",
    "\n",
    "\n",
    "$$\\frac{b - a}{max(a, b)}$$"
   ]
  },
  {
   "cell_type": "markdown",
   "id": "9227ff62",
   "metadata": {
    "slideshow": {
     "slide_type": "subslide"
    }
   },
   "source": [
    "![](https://miro.medium.com/max/1400/0*DxFrIuHQ45NL-sG5.png)"
   ]
  },
  {
   "cell_type": "markdown",
   "id": "7b2c2481",
   "metadata": {
    "slideshow": {
     "slide_type": "subslide"
    }
   },
   "source": [
    "![](https://miro.medium.com/max/1400/0*MdUUX3ExJ8D8XPyM.png)"
   ]
  },
  {
   "cell_type": "markdown",
   "id": "052e4d6e",
   "metadata": {
    "slideshow": {
     "slide_type": "subslide"
    }
   },
   "source": [
    "![](https://miro.medium.com/max/1400/0*vBw305hy0efDy3YG.png)"
   ]
  },
  {
   "cell_type": "markdown",
   "id": "953c63f6",
   "metadata": {
    "slideshow": {
     "slide_type": "subslide"
    }
   },
   "source": [
    "```python\n",
    "sklearn.metrics.silhouette_score(X, predicted_labels, metric='euclidean')\n",
    "```"
   ]
  },
  {
   "cell_type": "code",
   "execution_count": null,
   "id": "3984bc91",
   "metadata": {},
   "outputs": [],
   "source": []
  }
 ],
 "metadata": {
  "celltoolbar": "Slideshow",
  "kernelspec": {
   "display_name": "Python 3 (ipykernel)",
   "language": "python",
   "name": "python3"
  },
  "language_info": {
   "codemirror_mode": {
    "name": "ipython",
    "version": 3
   },
   "file_extension": ".py",
   "mimetype": "text/x-python",
   "name": "python",
   "nbconvert_exporter": "python",
   "pygments_lexer": "ipython3",
   "version": "3.8.10"
  }
 },
 "nbformat": 4,
 "nbformat_minor": 5
}
