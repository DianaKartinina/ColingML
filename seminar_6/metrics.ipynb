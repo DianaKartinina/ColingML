{
 "cells": [
  {
   "cell_type": "markdown",
   "id": "ba3df6ba",
   "metadata": {
    "slideshow": {
     "slide_type": "slide"
    }
   },
   "source": [
    "## Что такое метрика? (Evaluation metric)\n",
    "\n",
    "* Метрика --- метод квантитативной оценки качества модели(-ей)"
   ]
  },
  {
   "cell_type": "markdown",
   "id": "8b1bbb77",
   "metadata": {
    "slideshow": {
     "slide_type": "slide"
    }
   },
   "source": [
    "## Как оценивать модели?\n",
    "\n",
    "* Holdout (train/test split)\n",
    "* Cross-validation\n",
    "* ..."
   ]
  },
  {
   "cell_type": "markdown",
   "id": "82d7e6b4",
   "metadata": {
    "slideshow": {
     "slide_type": "slide"
    }
   },
   "source": [
    "## Метрики для задач обучения с учителем\n",
    "\n",
    "#### Классификация:\n",
    "\n",
    "* Accuracy\n",
    "* Precision\n",
    "* Recall\n",
    "* F1 score\n",
    "* ROC/AUC\n",
    "* Matthews correlation coef\n",
    "* Log loss\n",
    "\n",
    "#### Регрессия:\n",
    "\n",
    "* R^2\n",
    "* MAE\n",
    "* MSE\n",
    "* RMSE\n",
    "* MAPE"
   ]
  },
  {
   "cell_type": "markdown",
   "id": "27e4d339",
   "metadata": {
    "slideshow": {
     "slide_type": "slide"
    }
   },
   "source": [
    "### Бинарная классификация\n",
    "\n",
    "##### Accuracy\n",
    "\n",
    "$$ accuracy = \\frac{количество \\quad  верно \\quad  предсказанных}{общее \\quad количество}$$"
   ]
  },
  {
   "cell_type": "code",
   "execution_count": 3,
   "id": "c255023e",
   "metadata": {
    "slideshow": {
     "slide_type": "subslide"
    }
   },
   "outputs": [],
   "source": [
    "# Sklearn\n",
    "\n",
    "model = LogisticRegression()\n",
    "\n",
    "model.fit(X_train, y_train)\n",
    "model.score(X_test, y_test)\n",
    "\n",
    "# 0.95"
   ]
  },
  {
   "cell_type": "code",
   "execution_count": null,
   "id": "10740aad",
   "metadata": {
    "slideshow": {
     "slide_type": "subslide"
    }
   },
   "outputs": [],
   "source": [
    "from sklearn.dummy import DummyClassifier\n",
    "\n",
    "dummy = DummyClassifer(strategy='most frequent')\n",
    "dummy.fit(X_train, y_train)\n",
    "dummy.score(X_test, y_test)\n",
    "\n",
    "# 0.94"
   ]
  },
  {
   "cell_type": "code",
   "execution_count": null,
   "id": "d1f9a32e",
   "metadata": {
    "slideshow": {
     "slide_type": "slide"
    }
   },
   "outputs": [],
   "source": [
    "from sklearn.datasets import make_classification\n",
    "\n",
    "X, y = make_classification(n_samples=10_000, n_classes=2, weights=[0.95, 0.05])"
   ]
  },
  {
   "cell_type": "code",
   "execution_count": null,
   "id": "5b931625",
   "metadata": {
    "slideshow": {
     "slide_type": "subslide"
    }
   },
   "outputs": [],
   "source": [
    "from sklearn.ensemble import RandomForestClassifier\n",
    "\n",
    "mdoel = RandomForestClassifier().fit(X_train, y_train)\n",
    "model.score(X_test, y_test)\n",
    "\n",
    "# 0.8"
   ]
  },
  {
   "cell_type": "code",
   "execution_count": null,
   "id": "938c3d7c",
   "metadata": {
    "slideshow": {
     "slide_type": "subslide"
    }
   },
   "outputs": [],
   "source": [
    "from sklearn.metrics import confusion_matrix\n",
    "confusion_matrix(y_test, model.predict(X_test))\n",
    "\n",
    "#  [[ 126, 13],\n",
    "#   [ 24, 60]]"
   ]
  },
  {
   "cell_type": "markdown",
   "id": "f953adb0",
   "metadata": {
    "slideshow": {
     "slide_type": "subslide"
    }
   },
   "source": [
    "![](https://i.ibb.co/X2RVNKP/image.png)"
   ]
  },
  {
   "cell_type": "markdown",
   "id": "4e301abf",
   "metadata": {
    "slideshow": {
     "slide_type": "fragment"
    }
   },
   "source": [
    "![](https://i.ibb.co/hMDChdX/image.png)"
   ]
  },
  {
   "cell_type": "markdown",
   "id": "fc9c285c",
   "metadata": {
    "slideshow": {
     "slide_type": "slide"
    }
   },
   "source": [
    "### Решить что важнее\n",
    "\n",
    "* Минимизировать ложно-положительные: Precision\n",
    "* Минимизировать ложно-отрицательные: Recall"
   ]
  },
  {
   "cell_type": "code",
   "execution_count": 4,
   "id": "4fe0e6f0",
   "metadata": {
    "slideshow": {
     "slide_type": "subslide"
    }
   },
   "outputs": [],
   "source": [
    "from sklearn.metrics import precision_score, recall_score, f1_score"
   ]
  },
  {
   "cell_type": "code",
   "execution_count": null,
   "id": "b171d1a9",
   "metadata": {
    "slideshow": {
     "slide_type": "subslide"
    }
   },
   "outputs": [],
   "source": [
    "from sklearn.model_selection import GridSearchCV\n",
    "\n",
    "grid = {\n",
    "    'n_estimators': [10, 200]\n",
    "}\n",
    "gs = GridSearchCV(estimator=model,\n",
    "                 param_grid=grid,\n",
    "                 scoring='precision')\n",
    "gs.fit(X_train, y_train)\n",
    "\n",
    "gs.best_estimator_.predict(X_test)"
   ]
  },
  {
   "cell_type": "markdown",
   "id": "5c7b2aa6",
   "metadata": {
    "slideshow": {
     "slide_type": "slide"
    }
   },
   "source": [
    " ##### Matthews Correaltion Coefficient\n",
    "\n",
    "* Способ вывести значение из матрицы несоответствия\n",
    "\n",
    "$$ MCC = \\frac{ TP * TN - FP * FN}{\\sqrt{(TP+FP)(TP + FN)(TN+FP)(TN+FN)}}$$\n",
    "\n",
    "* NB.: MCC не задан, когда знаменатель равен нулю"
   ]
  },
  {
   "cell_type": "markdown",
   "id": "96939ad9",
   "metadata": {
    "slideshow": {
     "slide_type": "subslide"
    }
   },
   "source": [
    "![](https://i.ibb.co/d0ptGhW/image.png)"
   ]
  },
  {
   "cell_type": "markdown",
   "id": "804deaad",
   "metadata": {
    "slideshow": {
     "slide_type": "slide"
    }
   },
   "source": [
    "### ROC (Receiver Operating Characteristic) curve\n",
    "\n",
    "$$ True Positive Rate = \\frac{TP}{TP + FN} $$\n",
    "$$ False Positive Rate = \\frac{FP}{FP + TN} $$"
   ]
  },
  {
   "cell_type": "markdown",
   "id": "3bb78e25",
   "metadata": {
    "slideshow": {
     "slide_type": "subslide"
    }
   },
   "source": [
    "![](https://i.ibb.co/RvMySR6/image.png)"
   ]
  },
  {
   "cell_type": "markdown",
   "id": "3fb1f572",
   "metadata": {
    "slideshow": {
     "slide_type": "slide"
    }
   },
   "source": [
    "### AUC (Area Under Curve)\n",
    "\n",
    "![](https://i.ibb.co/xgB193H/image.png)"
   ]
  },
  {
   "attachments": {},
   "cell_type": "markdown",
   "id": "6c2cb111",
   "metadata": {
    "slideshow": {
     "slide_type": "slide"
    }
   },
   "source": [
    "### Precision \\ recall curve\n",
    "\n",
    "![](https://i.ibb.co/mc2qyGR/image.png)"
   ]
  },
  {
   "cell_type": "markdown",
   "id": "5ac9348f",
   "metadata": {
    "slideshow": {
     "slide_type": "slide"
    }
   },
   "source": [
    "### Log loss\n",
    "\n",
    "* Принимает во внимание неуверенность предсказания модели\n",
    "* Принимает большие значения, когда модель уверена в неверном предсказании\n",
    "\n",
    "$$\n",
    "-\\frac{1}{n} \\sum_{i=1}^{n} y_i\\log p_i + (1 - y_i)\\log(1-p_i)\n",
    "$$\n",
    "\n",
    "$y_i$ в бинарном случае - верный лейбл"
   ]
  },
  {
   "cell_type": "markdown",
   "id": "8791d7cf",
   "metadata": {
    "slideshow": {
     "slide_type": "subslide"
    }
   },
   "source": [
    "![](https://i.ibb.co/DkwFXt8/image.png)"
   ]
  },
  {
   "cell_type": "markdown",
   "id": "ad3b66e4",
   "metadata": {
    "slideshow": {
     "slide_type": "slide"
    }
   },
   "source": [
    "# Мультикласс\n",
    "\n",
    "![](https://i.ibb.co/WfBmH0q/image.png)"
   ]
  },
  {
   "cell_type": "markdown",
   "id": "174418e0",
   "metadata": {
    "slideshow": {
     "slide_type": "slide"
    }
   },
   "source": [
    "F1\n",
    "\n",
    "Micro - все семплы участвуют в равной степени в усреднении\n",
    "\n",
    "Macro - все классы участвуют в равной степени в усреднении"
   ]
  },
  {
   "cell_type": "markdown",
   "id": "7ce5a4b9",
   "metadata": {
    "slideshow": {
     "slide_type": "slide"
    }
   },
   "source": [
    "### Multiclass log loss\n",
    "\n",
    "$$ -\\frac{1}{n} \\sum_{i=1}^{n}\\sum_{j=1}^{m}y_{ij}\\log p_{ij} $$"
   ]
  },
  {
   "cell_type": "markdown",
   "id": "affa1ee6",
   "metadata": {
    "slideshow": {
     "slide_type": "slide"
    }
   },
   "source": [
    "## Регрессия\n"
   ]
  },
  {
   "cell_type": "markdown",
   "id": "40b5bf7f",
   "metadata": {
    "slideshow": {
     "slide_type": "slide"
    }
   },
   "source": [
    "#### R^2 (коэфициент детерминации)\n",
    "\n",
    "model.score(X_test, y_test)\n",
    "\n",
    "1 - идеально\n",
    "\n",
    "0 - dummy среднее\n"
   ]
  },
  {
   "cell_type": "markdown",
   "id": "a8a983a0",
   "metadata": {
    "slideshow": {
     "slide_type": "subslide"
    }
   },
   "source": [
    "$$ R^2(y, y_{pred}) = 1 - \\frac{\\sum_{i=1}^{n}(y_i - y_{pred_i})}{\\sum_{i=1}^{n}(y_i - y_{mean})}$$"
   ]
  },
  {
   "cell_type": "markdown",
   "id": "427a0b45",
   "metadata": {
    "slideshow": {
     "slide_type": "slide"
    }
   },
   "source": [
    "## MAE\n",
    "\n",
    "$$ MAE(y, y_{pred}) = \\frac{1}{n}\\sum_{i=1}^{n}|y_i-y_{pred_i}|$$"
   ]
  },
  {
   "cell_type": "code",
   "execution_count": null,
   "id": "4104859a",
   "metadata": {
    "slideshow": {
     "slide_type": "fragment"
    }
   },
   "outputs": [],
   "source": [
    "np.average(np.abs(y_true - y_pred))"
   ]
  },
  {
   "cell_type": "markdown",
   "id": "0b85659e",
   "metadata": {
    "slideshow": {
     "slide_type": "slide"
    }
   },
   "source": [
    "## MSE \n",
    "\n",
    "$$ MAE(y, y_{pred}) = \\frac{1}{n}\\sum_{i=1}^{n}(y_i-y_{pred_i})^2$$"
   ]
  },
  {
   "cell_type": "code",
   "execution_count": 7,
   "id": "f0da820c",
   "metadata": {
    "slideshow": {
     "slide_type": "fragment"
    }
   },
   "outputs": [],
   "source": [
    "np.average((y_true - y_pred)**2)"
   ]
  },
  {
   "cell_type": "markdown",
   "id": "49db4703",
   "metadata": {
    "slideshow": {
     "slide_type": "slide"
    }
   },
   "source": [
    "## RMSE \n",
    "\n",
    "$$ RMSE(y, y_{pred}) = \\sqrt(\\frac{1}{n}\\sum_{i=1}^{n}(y_i-y_{pred_i})^2)$$"
   ]
  },
  {
   "cell_type": "code",
   "execution_count": 8,
   "id": "71693682",
   "metadata": {
    "slideshow": {
     "slide_type": "fragment"
    }
   },
   "outputs": [],
   "source": [
    "np.sqrt(np.average((y_true - y_pred)**2))"
   ]
  },
  {
   "cell_type": "markdown",
   "id": "60030a7d",
   "metadata": {
    "slideshow": {
     "slide_type": "slide"
    }
   },
   "source": [
    "В чём разница между MAE и RMSE\n",
    "\n",
    "* RMSE даёт больший вес большим ошибкам\n",
    "\n",
    "* MAE менее чувствителен к выбросам"
   ]
  },
  {
   "cell_type": "markdown",
   "id": "548e9497",
   "metadata": {
    "slideshow": {
     "slide_type": "slide"
    }
   },
   "source": [
    "## RMSLE (log)\n",
    "\n",
    "$$ RMSLE(y, y_{pred}) = \\sqrt(\\frac{1}{n}\\sum_{i=1}^{n}(log_e(y_i+1) - log_e(y_{pred_i+1}))^2$$"
   ]
  },
  {
   "cell_type": "markdown",
   "id": "7fe8afda",
   "metadata": {
    "slideshow": {
     "slide_type": "slide"
    }
   },
   "source": [
    "### Выводы:\n",
    "\n",
    "* Нет одной \"идеальной\" метрики\n",
    "* Проведите расследовательный анализ данных\n",
    "* Порассуждайте о потенциальных проблемах в процессе моделирования"
   ]
  },
  {
   "cell_type": "code",
   "execution_count": null,
   "id": "feeb62c0",
   "metadata": {},
   "outputs": [],
   "source": []
  }
 ],
 "metadata": {
  "celltoolbar": "Slideshow",
  "kernelspec": {
   "display_name": "Python 3 (ipykernel)",
   "language": "python",
   "name": "python3"
  },
  "language_info": {
   "codemirror_mode": {
    "name": "ipython",
    "version": 3
   },
   "file_extension": ".py",
   "mimetype": "text/x-python",
   "name": "python",
   "nbconvert_exporter": "python",
   "pygments_lexer": "ipython3",
   "version": "3.8.10"
  }
 },
 "nbformat": 4,
 "nbformat_minor": 5
}
