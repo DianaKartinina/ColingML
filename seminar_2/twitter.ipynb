{
 "cells": [
  {
   "cell_type": "markdown",
   "id": "2941b1df",
   "metadata": {},
   "source": [
    "[10 minute pandas guide](https://pandas.pydata.org/pandas-docs/stable/user_guide/10min.html#min)\n",
    "\n",
    "[pandas documentation](https://pandas.pydata.org/pandas-docs/stable/index.html)"
   ]
  },
  {
   "cell_type": "markdown",
   "id": "537f5205",
   "metadata": {},
   "source": [
    "# Задание по pandas"
   ]
  },
  {
   "cell_type": "code",
   "execution_count": 1,
   "id": "0e350b55",
   "metadata": {},
   "outputs": [],
   "source": [
    "import pandas as pd\n",
    "\n",
    "df = pd.read_csv('tweets.csv')"
   ]
  },
  {
   "cell_type": "code",
   "execution_count": null,
   "id": "24a10d59",
   "metadata": {},
   "outputs": [],
   "source": [
    "def tod_converter(timestamp):\n",
    "    converter = {'morning': (5, 13),\n",
    "                 'afternoon': (13, 16),\n",
    "                 'evening': (16, 23)}\n",
    "    \n",
    "    hour = timestamp.hour\n",
    "    \n",
    "    for tod in converter:\n",
    "        if hour in range(*converter[tod]):\n",
    "            return tod\n",
    "    return 'night'\n",
    "\n",
    "df['created_at'] = pd.to_datetime(df['created_at'])\n",
    "df['time_of_day'] = df['created_at'].apply(tod_converter)"
   ]
  },
  {
   "cell_type": "markdown",
   "id": "a9a30d36",
   "metadata": {},
   "source": [
    "`Задание 1`:\n",
    "\n",
    "Выделить никнейм автора, содержащийся в колонке `tweet` **в самом начале** между знаками `@` и `:`, в отдельную колонку `handle` \n",
    "\n",
    "Содержание твитов в колонке `tweet` избавить от этого никнейма\n",
    "\n",
    "Воспользуйтесь методом `.apply()` для создания `handle`, написав свою кастомную функцию"
   ]
  },
  {
   "cell_type": "code",
   "execution_count": null,
   "id": "f6a680b7",
   "metadata": {},
   "outputs": [],
   "source": [
    "def parse_handle(tweet):\n",
    "    handle = None\n",
    "    return handle\n",
    "\n",
    "df['handle'] = df['tweet'].apply(parse_handle, axis=1)"
   ]
  },
  {
   "cell_type": "markdown",
   "id": "216c4cec",
   "metadata": {},
   "source": [
    "`Задание 2`:\n",
    "\n",
    "Создайте колонку `num_mentions`, в которой посчитайте, сколько раз в каждом из твитов были упомянуты логины других пользователей (считаются только упоминания, начинающиеся с `@`)\n",
    "\n",
    "Воспользуйтесь методом `.apply()` для этого, написав свою кастомную функцию"
   ]
  },
  {
   "cell_type": "code",
   "execution_count": null,
   "id": "beb69244",
   "metadata": {},
   "outputs": [],
   "source": [
    "def count_mentions(tweet):\n",
    "    mentions = 0\n",
    "    return mentions\n",
    "\n",
    "df['num_mentions'] = df['tweet'].apply(count_mentions, axis=1)"
   ]
  },
  {
   "cell_type": "markdown",
   "id": "bc00bbec",
   "metadata": {},
   "source": [
    "\n",
    "\n",
    "`Задание 3`:\n",
    "\n",
    "Постройте столбчатую диаграмму распределения числа твитов по месяцам.\n",
    "\n",
    "В какой месяц какого года было опубликовано больше всего твитов?"
   ]
  },
  {
   "cell_type": "code",
   "execution_count": null,
   "id": "0e7392e0",
   "metadata": {},
   "outputs": [],
   "source": []
  },
  {
   "cell_type": "markdown",
   "id": "b075761f",
   "metadata": {},
   "source": [
    "`Задание 3`:\n",
    "\n",
    "Посчитайте соотношение ретвитов к лайкам, записав значение в колонку `rt_ratio`\n",
    "\n",
    "Заполните случаи деления на ноль (`inf`) значениями  `0` с помощью метода `.replace()`\n"
   ]
  },
  {
   "cell_type": "code",
   "execution_count": null,
   "id": "6930a82f",
   "metadata": {},
   "outputs": [],
   "source": [
    "df['rt'] = df['retweets'] / df['likes']"
   ]
  },
  {
   "cell_type": "markdown",
   "id": "8e87ea49",
   "metadata": {},
   "source": [
    "`Задание 4`:\n",
    "\n",
    "Выделите топ-5 популярных авторов (по среднему количеству лайков), количество твитов которых превышает `500`.\n",
    "Среди этих твитов выделите только те, у которых больше 30 лайков.\n",
    "\n",
    "Для подсчета твитов и усреднения лайков используйте `.groupby('author').agg({...})`"
   ]
  },
  {
   "cell_type": "code",
   "execution_count": null,
   "id": "e3da00f1",
   "metadata": {},
   "outputs": [],
   "source": []
  },
  {
   "cell_type": "markdown",
   "id": "8232d7e8",
   "metadata": {},
   "source": [
    "`Задание 5`:\n",
    "\n",
    "В полученном датафрейме посчитайте усредненные значения `rt_ratio` по каждому автору и времени дня с помощью `.groupby(['author', 'time_of_day']).agg(...)`\n",
    "\n",
    "Отразите значения для каждого автора и времени дня в графике вида `hbar`. Данный график показывает в какое время дня посты вызывают наибольший охват и внимание пользователей."
   ]
  },
  {
   "cell_type": "code",
   "execution_count": null,
   "id": "d8469f18",
   "metadata": {},
   "outputs": [],
   "source": []
  },
  {
   "cell_type": "code",
   "execution_count": null,
   "id": "706b85f9",
   "metadata": {},
   "outputs": [],
   "source": [
    "df = pd.read_csv('tweets.csv')"
   ]
  },
  {
   "cell_type": "markdown",
   "id": "61bc19ff",
   "metadata": {},
   "source": [
    "`Задание 6`: \n",
    "\n",
    "Используя `WordNetLemmatizer()`, `nltk.word_tokenize()` и словарь положительных и отрицательных слов (`positive-words.txt`, `negative-words.txt`), а также метод `.apply()` высчитайте индекс тональности для твиттов и запишите в колонке `sentiment`.\n",
    "\n",
    "Выделите 10% самых позитивных и 10% самых негативных твиттов с помощью 1-го и 9-го дециля\n",
    "\n",
    "Выведите их построчно\n",
    "\n"
   ]
  },
  {
   "cell_type": "code",
   "execution_count": null,
   "id": "a6eb6ffa",
   "metadata": {},
   "outputs": [],
   "source": [
    "import nltk\n",
    "from nltk import WordNetLemmatizer\n",
    "\n",
    "def count_sentiment_score(tweet):\n",
    "    score = 0\n",
    "    for word in tweet:\n",
    "        if tweet in positive_words:\n",
    "            pass\n",
    "    return score"
   ]
  }
 ],
 "metadata": {
  "kernelspec": {
   "display_name": "Python 3 (ipykernel)",
   "language": "python",
   "name": "python3"
  },
  "language_info": {
   "codemirror_mode": {
    "name": "ipython",
    "version": 3
   },
   "file_extension": ".py",
   "mimetype": "text/x-python",
   "name": "python",
   "nbconvert_exporter": "python",
   "pygments_lexer": "ipython3",
   "version": "3.8.10"
  }
 },
 "nbformat": 4,
 "nbformat_minor": 5
}
